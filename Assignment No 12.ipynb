{
 "cells": [
  {
   "cell_type": "markdown",
   "id": "d530a703",
   "metadata": {},
   "source": [
    ">__1. In what modes should the PdfFileReader() and PdfFileWriter() File objects will be opened?__"
   ]
  },
  {
   "cell_type": "markdown",
   "id": "d2b86801",
   "metadata": {},
   "source": [
    "Ans.  PdfFileReader() needs to be opened in read-binary mode by passing 'rb' as the second argument to open(). Likewise, the File object passed to PyPDF2. <br>PdfFileWriter() needs to be opened in write-binary mode with 'wb'."
   ]
  },
  {
   "cell_type": "markdown",
   "id": "d29de518",
   "metadata": {},
   "source": [
    ">__2. From a PdfFileReader object, how do you get a Page object for page 5?__"
   ]
  },
  {
   "cell_type": "markdown",
   "id": "6c78dd5a",
   "metadata": {},
   "source": [
    " Ans.  You can get a Page object by calling the getPage() method on a PdfFileReader object and passing it the page number of the page you're interested in—in our case, 5."
   ]
  },
  {
   "cell_type": "markdown",
   "id": "51885b3f",
   "metadata": {},
   "source": [
    ">__3. What PdfFileReader variable stores the number of pages in the PDF document?__"
   ]
  },
  {
   "cell_type": "markdown",
   "id": "ae6afb22",
   "metadata": {},
   "source": [
    "Ans.  The total number of pages in the document is stored in the numPages attribute of a PdfFileReader object."
   ]
  },
  {
   "cell_type": "markdown",
   "id": "b05b2233",
   "metadata": {},
   "source": [
    ">__4. If a PdfFileReader object’s PDF is encrypted with the password swordfish, what must you do before you can obtain Page objects from it?__"
   ]
  },
  {
   "cell_type": "markdown",
   "id": "3a076cc4",
   "metadata": {},
   "source": [
    "Ans. Call decrypt('swordfish')"
   ]
  },
  {
   "cell_type": "markdown",
   "id": "d117d1ef",
   "metadata": {},
   "source": [
    ">__5. What methods do you use to rotate a page?__"
   ]
  },
  {
   "cell_type": "markdown",
   "id": "c6312cc0",
   "metadata": {},
   "source": [
    "Ans.  We rotate the page by rotateClockwise() method of page object class."
   ]
  },
  {
   "cell_type": "markdown",
   "id": "58776122",
   "metadata": {},
   "source": [
    ">__6. What is the difference between a Run object and a Paragraph object?__"
   ]
  },
  {
   "cell_type": "markdown",
   "id": "a217e796",
   "metadata": {},
   "source": [
    "Ans.  A document contains multiple paragraphs. A paragraph begins on a new line and contains multiple runs. Runs are contiguous groups of characters within the a paragraph."
   ]
  },
  {
   "cell_type": "markdown",
   "id": "aede72f1",
   "metadata": {},
   "source": [
    ">__7. How do you obtain a list of Paragraph objects for a Document object that’s stored in a variable named doc?__"
   ]
  },
  {
   "cell_type": "markdown",
   "id": "3f9e6249",
   "metadata": {},
   "source": [
    "Ans. Use doc.paragraphs."
   ]
  },
  {
   "cell_type": "markdown",
   "id": "cdb2b818",
   "metadata": {},
   "source": [
    ">__8. What type of object has bold, underline, italic, strike, and outline variables?__"
   ]
  },
  {
   "cell_type": "markdown",
   "id": "dd4c97d1",
   "metadata": {},
   "source": [
    "Ans.  A Run object has these variables (not a paragraph)"
   ]
  },
  {
   "cell_type": "markdown",
   "id": "42ba9d2f",
   "metadata": {},
   "source": [
    ">__9. What is the difference between False, True, and None for the bold variable?__"
   ]
  },
  {
   "cell_type": "markdown",
   "id": "f604217c",
   "metadata": {},
   "source": [
    "Ans. True always makes the Run object bolded and False makes it always not bolded, no matter what the style's bold setting is. None will make the Run object just use the style's bold setting."
   ]
  },
  {
   "cell_type": "markdown",
   "id": "76841a4c",
   "metadata": {},
   "source": [
    ">__10. How do you create a Document object for a new Word document?__"
   ]
  },
  {
   "cell_type": "markdown",
   "id": "76b7e411",
   "metadata": {},
   "source": [
    "Ans.  Call the docx.Document() function."
   ]
  },
  {
   "cell_type": "markdown",
   "id": "b6d1d604",
   "metadata": {},
   "source": [
    ">__11. How do you add a paragraph with the text 'Hello, there!' to a Document object stored in a variable named doc?__"
   ]
  },
  {
   "cell_type": "markdown",
   "id": "df65384e",
   "metadata": {},
   "source": [
    "Ans.  doc.add_paragraph('Hello there!')"
   ]
  },
  {
   "cell_type": "markdown",
   "id": "5053f829",
   "metadata": {},
   "source": [
    ">__12. What integers represent the levels of headings available in Word documents?__"
   ]
  },
  {
   "cell_type": "markdown",
   "id": "e3f26c90",
   "metadata": {},
   "source": [
    "Ans.  The integers 0,1,2,3, and 4"
   ]
  }
 ],
 "metadata": {
  "kernelspec": {
   "display_name": "Python 3",
   "language": "python",
   "name": "python3"
  },
  "language_info": {
   "codemirror_mode": {
    "name": "ipython",
    "version": 3
   },
   "file_extension": ".py",
   "mimetype": "text/x-python",
   "name": "python",
   "nbconvert_exporter": "python",
   "pygments_lexer": "ipython3",
   "version": "3.8.8"
  }
 },
 "nbformat": 4,
 "nbformat_minor": 5
}
